{
  "nbformat": 4,
  "nbformat_minor": 0,
  "metadata": {
    "colab": {
      "provenance": [],
      "authorship_tag": "ABX9TyMD5r5mVfs79sLG53Sa6GTY",
      "include_colab_link": true
    },
    "kernelspec": {
      "name": "python3",
      "display_name": "Python 3"
    },
    "language_info": {
      "name": "python"
    }
  },
  "cells": [
    {
      "cell_type": "markdown",
      "metadata": {
        "id": "view-in-github",
        "colab_type": "text"
      },
      "source": [
        "<a href=\"https://colab.research.google.com/github/Harsh-Atkare/NumPy/blob/main/8_Searching_array.ipynb\" target=\"_parent\"><img src=\"https://colab.research.google.com/assets/colab-badge.svg\" alt=\"Open In Colab\"/></a>"
      ]
    },
    {
      "cell_type": "markdown",
      "source": [
        "# Searching Array\n",
        "Searching in a NumPy array allows you to find specific elements or their indices. NumPy provides various functions for this purpose, such as where(), searchsorted(), nonzero(), and extract()"
      ],
      "metadata": {
        "id": "nbSK1N2D1u_3"
      }
    },
    {
      "cell_type": "code",
      "execution_count": 2,
      "metadata": {
        "colab": {
          "base_uri": "https://localhost:8080/"
        },
        "id": "Xq093hqf1i0J",
        "outputId": "61b330c9-b6c1-4ba2-ff4a-053f15f17e77"
      },
      "outputs": [
        {
          "output_type": "stream",
          "name": "stdout",
          "text": [
            "(array([3, 6]),)\n",
            "<class 'tuple'>\n"
          ]
        }
      ],
      "source": [
        "import numpy as np\n",
        "\n",
        "arr = np.array([1, 2, 3, 4, 5, 6,4, 7, 8, 9, 10])\n",
        "index=np.where(arr==4)\n",
        "print(index)\n",
        "print(type(index))"
      ]
    },
    {
      "cell_type": "code",
      "source": [
        "index=np.where(arr%2 == 0)\n",
        "print(index)\n",
        "print(index[0])\n",
        "for i in index[0]:\n",
        "  print(arr[i])"
      ],
      "metadata": {
        "colab": {
          "base_uri": "https://localhost:8080/"
        },
        "id": "AINyUfc93J-Q",
        "outputId": "ff4ee3ed-c887-4662-8900-078c68797e02"
      },
      "execution_count": 7,
      "outputs": [
        {
          "output_type": "stream",
          "name": "stdout",
          "text": [
            "(array([ 1,  3,  5,  6,  8, 10]),)\n",
            "[ 1  3  5  6  8 10]\n",
            "2\n",
            "4\n",
            "6\n",
            "4\n",
            "8\n",
            "10\n"
          ]
        }
      ]
    },
    {
      "cell_type": "markdown",
      "source": [
        "# searchsorted()\n",
        "The searchsorted() function finds the indices where elements should be inserted"
      ],
      "metadata": {
        "id": "BwqM6G_V4r2C"
      }
    },
    {
      "cell_type": "code",
      "source": [
        "import numpy as np\n",
        "\n",
        "arr = np.array([6, 7, 9, 10])\n",
        "index=np.searchsorted(arr, 8)\n",
        "print(index)"
      ],
      "metadata": {
        "colab": {
          "base_uri": "https://localhost:8080/"
        },
        "id": "DszdTGoK4veg",
        "outputId": "07cea62b-4dcf-49ef-aacb-76258ebdccb6"
      },
      "execution_count": 10,
      "outputs": [
        {
          "output_type": "stream",
          "name": "stdout",
          "text": [
            "2\n"
          ]
        }
      ]
    }
  ]
}