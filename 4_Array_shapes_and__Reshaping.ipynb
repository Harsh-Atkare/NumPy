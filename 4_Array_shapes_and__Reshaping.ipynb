{
  "nbformat": 4,
  "nbformat_minor": 0,
  "metadata": {
    "colab": {
      "provenance": [],
      "authorship_tag": "ABX9TyO/LbPrBDsLmdCxoSbunAD+",
      "include_colab_link": true
    },
    "kernelspec": {
      "name": "python3",
      "display_name": "Python 3"
    },
    "language_info": {
      "name": "python"
    }
  },
  "cells": [
    {
      "cell_type": "markdown",
      "metadata": {
        "id": "view-in-github",
        "colab_type": "text"
      },
      "source": [
        "<a href=\"https://colab.research.google.com/github/Harsh-Atkare/NumPy/blob/main/4_Array_shapes_and__Reshaping.ipynb\" target=\"_parent\"><img src=\"https://colab.research.google.com/assets/colab-badge.svg\" alt=\"Open In Colab\"/></a>"
      ]
    },
    {
      "cell_type": "markdown",
      "source": [
        "# Shape\n",
        " the shape of an array refers to the dimensions of the array, expressed as a tuple of integers. It tells you the number of elements along each axis (dimension) of the array."
      ],
      "metadata": {
        "id": "ipJB4tNLGkYr"
      }
    },
    {
      "cell_type": "code",
      "execution_count": 1,
      "metadata": {
        "colab": {
          "base_uri": "https://localhost:8080/"
        },
        "id": "XAAd8VRXGL-N",
        "outputId": "5d6cb7a2-32b1-4866-b52a-2d7f5582d91c"
      },
      "outputs": [
        {
          "output_type": "stream",
          "name": "stdout",
          "text": [
            "(5,)\n"
          ]
        }
      ],
      "source": [
        "import numpy as np\n",
        "a=np.array([1,2,3,4,5])\n",
        "print(a.shape)"
      ]
    },
    {
      "cell_type": "code",
      "source": [
        "b=np.array([[1,2,3],[4,5,6]])\n",
        "print(b.shape)"
      ],
      "metadata": {
        "colab": {
          "base_uri": "https://localhost:8080/"
        },
        "id": "GQEJ74M1HCf_",
        "outputId": "bd34ddbc-592b-441a-a063-db459822cdb3"
      },
      "execution_count": 5,
      "outputs": [
        {
          "output_type": "stream",
          "name": "stdout",
          "text": [
            "(2, 3)\n"
          ]
        }
      ]
    },
    {
      "cell_type": "code",
      "source": [
        "arr3 = np.array([[[1, 2, 3], [4, 5, 6]], [[7, 8, 9], [10, 11, 12]]])\n",
        "print(arr3.shape)"
      ],
      "metadata": {
        "colab": {
          "base_uri": "https://localhost:8080/"
        },
        "id": "jWbPTWP_H8K2",
        "outputId": "36aa69d8-308a-48cf-9911-0b7c2c0e09fd"
      },
      "execution_count": 6,
      "outputs": [
        {
          "output_type": "stream",
          "name": "stdout",
          "text": [
            "(2, 2, 3)\n"
          ]
        }
      ]
    },
    {
      "cell_type": "markdown",
      "source": [
        "## Reshaping\n",
        "Reshaping in NumPy allows you to change the shape of an array without changing its data. You can transform the array into any shape that is compatible with its size (i.e., the total number of elements must remain the same)."
      ],
      "metadata": {
        "id": "rm09meTcJgD7"
      }
    },
    {
      "cell_type": "code",
      "source": [
        "# reshaping from 1d to 2d\n",
        "import numpy as np\n",
        "c=np.array([1,2,3,4,5,6,7,8,9,10,11,12])\n",
        "reshaped_c=c.reshape(4,3) # 4 row 3 column\n",
        "print(reshaped_c)"
      ],
      "metadata": {
        "colab": {
          "base_uri": "https://localhost:8080/"
        },
        "id": "G9vRYZX5Jkoq",
        "outputId": "97825afe-5c08-47f1-8ac2-d792b0609b88"
      },
      "execution_count": 8,
      "outputs": [
        {
          "output_type": "stream",
          "name": "stdout",
          "text": [
            "[[ 1  2  3]\n",
            " [ 4  5  6]\n",
            " [ 7  8  9]\n",
            " [10 11 12]]\n"
          ]
        }
      ]
    },
    {
      "cell_type": "code",
      "source": [
        "import numpy as np\n",
        "c=np.array([1,2,3,4,5,6,7,8,9,10,11,12])\n",
        "reshaped_c=c.reshape(2,3,2) # 4 block 3 row 2 column\n",
        "print(reshaped_c)"
      ],
      "metadata": {
        "colab": {
          "base_uri": "https://localhost:8080/"
        },
        "id": "ZPL3yD83Kcad",
        "outputId": "9f9f1a7e-69b0-4159-aaf9-ab0e829b7b1f"
      },
      "execution_count": 12,
      "outputs": [
        {
          "output_type": "stream",
          "name": "stdout",
          "text": [
            "[[[ 1  2]\n",
            "  [ 3  4]\n",
            "  [ 5  6]]\n",
            "\n",
            " [[ 7  8]\n",
            "  [ 9 10]\n",
            "  [11 12]]]\n"
          ]
        }
      ]
    },
    {
      "cell_type": "code",
      "source": [
        "# converting multidiemention into 1 dim\n",
        "f=np.array([[[1,2,3],[1,2,3]],[[1,2,3],[1,2,3]]])\n",
        "print(f.shape)\n",
        "f=f.flatten()\n",
        "print(f.shape)\n",
        "print(f)"
      ],
      "metadata": {
        "colab": {
          "base_uri": "https://localhost:8080/"
        },
        "id": "NB268VQDZzO3",
        "outputId": "3ec76c66-78cd-4afb-983c-40587063ce27"
      },
      "execution_count": 18,
      "outputs": [
        {
          "output_type": "stream",
          "name": "stdout",
          "text": [
            "(2, 2, 3)\n",
            "(12,)\n",
            "[1 2 3 1 2 3 1 2 3 1 2 3]\n"
          ]
        }
      ]
    }
  ]
}