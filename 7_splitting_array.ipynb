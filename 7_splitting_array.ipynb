{
  "nbformat": 4,
  "nbformat_minor": 0,
  "metadata": {
    "colab": {
      "provenance": [],
      "authorship_tag": "ABX9TyPAOF8pCthm4TRPXZAxE50s",
      "include_colab_link": true
    },
    "kernelspec": {
      "name": "python3",
      "display_name": "Python 3"
    },
    "language_info": {
      "name": "python"
    }
  },
  "cells": [
    {
      "cell_type": "markdown",
      "metadata": {
        "id": "view-in-github",
        "colab_type": "text"
      },
      "source": [
        "<a href=\"https://colab.research.google.com/github/Harsh-Atkare/NumPy/blob/main/7_splitting_array.ipynb\" target=\"_parent\"><img src=\"https://colab.research.google.com/assets/colab-badge.svg\" alt=\"Open In Colab\"/></a>"
      ]
    },
    {
      "cell_type": "markdown",
      "source": [
        "## Splitting Array\n",
        " splitting arrays involves dividing an array into multiple sub-arrays. You can split arrays using several functions like split(), hsplit(), vsplit(), and dsplit()."
      ],
      "metadata": {
        "id": "2CjH7uD1u5yZ"
      }
    },
    {
      "cell_type": "code",
      "execution_count": 5,
      "metadata": {
        "colab": {
          "base_uri": "https://localhost:8080/"
        },
        "id": "k--UoSewtZd0",
        "outputId": "9f71c636-2888-4127-c646-a89144b93b42"
      },
      "outputs": [
        {
          "output_type": "stream",
          "name": "stdout",
          "text": [
            "[array([1, 2]), array([43,  5]), array([8, 7])]\n"
          ]
        }
      ],
      "source": [
        "import numpy as np\n",
        "a= np.array([1,2,43,5,8,7])\n",
        "b= np.split(a,3)\n",
        "print(b)"
      ]
    },
    {
      "cell_type": "code",
      "source": [
        "arr = np.array([1, 2, 3, 4, 5, 6])\n",
        "\n",
        "# Split into 3 sub-arrays\n",
        "result = np.array_split(arr, 4)\n",
        "print(result)"
      ],
      "metadata": {
        "colab": {
          "base_uri": "https://localhost:8080/"
        },
        "id": "tkdmiDQOv4RP",
        "outputId": "79585135-af7f-460c-a874-0531a037981f"
      },
      "execution_count": 6,
      "outputs": [
        {
          "output_type": "stream",
          "name": "stdout",
          "text": [
            "[array([1, 2]), array([3, 4]), array([5]), array([6])]\n"
          ]
        }
      ]
    },
    {
      "cell_type": "code",
      "source": [
        "print(result[0])"
      ],
      "metadata": {
        "colab": {
          "base_uri": "https://localhost:8080/"
        },
        "id": "hMt2D3TEx_cn",
        "outputId": "9b6e0239-f5cc-4596-f563-07bb704a321c"
      },
      "execution_count": 7,
      "outputs": [
        {
          "output_type": "stream",
          "name": "stdout",
          "text": [
            "[1 2]\n"
          ]
        }
      ]
    },
    {
      "cell_type": "code",
      "source": [
        "b=np.array([[1,2],[3,4],[5,6],[7,8]])\n",
        "result=np.array_split(b,3)\n",
        "print(result)"
      ],
      "metadata": {
        "colab": {
          "base_uri": "https://localhost:8080/"
        },
        "id": "dYtXKkMmyDbu",
        "outputId": "13ec483b-6731-499b-aa80-625a02817c23"
      },
      "execution_count": 8,
      "outputs": [
        {
          "output_type": "stream",
          "name": "stdout",
          "text": [
            "[array([[1, 2],\n",
            "       [3, 4]]), array([[5, 6]]), array([[7, 8]])]\n"
          ]
        }
      ]
    }
  ]
}