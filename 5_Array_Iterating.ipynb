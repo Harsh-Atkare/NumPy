{
  "nbformat": 4,
  "nbformat_minor": 0,
  "metadata": {
    "colab": {
      "provenance": [],
      "authorship_tag": "ABX9TyOvsVtht1Z+1VX4BAX9aoHg",
      "include_colab_link": true
    },
    "kernelspec": {
      "name": "python3",
      "display_name": "Python 3"
    },
    "language_info": {
      "name": "python"
    }
  },
  "cells": [
    {
      "cell_type": "markdown",
      "metadata": {
        "id": "view-in-github",
        "colab_type": "text"
      },
      "source": [
        "<a href=\"https://colab.research.google.com/github/Harsh-Atkare/NumPy/blob/main/5_Array_Iterating.ipynb\" target=\"_parent\"><img src=\"https://colab.research.google.com/assets/colab-badge.svg\" alt=\"Open In Colab\"/></a>"
      ]
    },
    {
      "cell_type": "markdown",
      "source": [
        "# looping"
      ],
      "metadata": {
        "id": "SywxiM0xb10k"
      }
    },
    {
      "cell_type": "code",
      "execution_count": 2,
      "metadata": {
        "colab": {
          "base_uri": "https://localhost:8080/"
        },
        "id": "fCZ7bP10bve2",
        "outputId": "0c5ce134-5799-4afd-c42e-fa1567315dff"
      },
      "outputs": [
        {
          "output_type": "stream",
          "name": "stdout",
          "text": [
            "1\n",
            "2\n",
            "3\n",
            "4\n",
            "5\n",
            "13\n"
          ]
        }
      ],
      "source": [
        "# looping in 1D\n",
        "import numpy as np\n",
        "a=np.array([1,2,3,4,5,13])\n",
        "for i in a:\n",
        "  print(i)"
      ]
    },
    {
      "cell_type": "code",
      "source": [
        "# looping i 2D\n",
        "import numpy as np\n",
        "b=np.array([[1,2,3],[6,5,4],[3,1,4]])\n",
        "for i in b:\n",
        "  print(i)"
      ],
      "metadata": {
        "colab": {
          "base_uri": "https://localhost:8080/"
        },
        "id": "-hYaM9LoceHy",
        "outputId": "2c6aad64-4df2-43ec-8cc0-f44c2fa4a46c"
      },
      "execution_count": 3,
      "outputs": [
        {
          "output_type": "stream",
          "name": "stdout",
          "text": [
            "[1 2 3]\n",
            "[6 5 4]\n",
            "[3 1 4]\n"
          ]
        }
      ]
    },
    {
      "cell_type": "code",
      "source": [
        "import numpy as np\n",
        "b=np.array([[1,2,3],[6,5,4],[3,1,4]])\n",
        "for i in b:\n",
        "  for j in i:\n",
        "    print(j)"
      ],
      "metadata": {
        "colab": {
          "base_uri": "https://localhost:8080/"
        },
        "id": "qKIVmosAdll7",
        "outputId": "6e74357b-c361-4e93-b8e3-465236e38a94"
      },
      "execution_count": 4,
      "outputs": [
        {
          "output_type": "stream",
          "name": "stdout",
          "text": [
            "1\n",
            "2\n",
            "3\n",
            "6\n",
            "5\n",
            "4\n",
            "3\n",
            "1\n",
            "4\n"
          ]
        }
      ]
    },
    {
      "cell_type": "code",
      "source": [
        "# irtate 3D\n",
        "import numpy as np\n",
        "b=np.array([[[1,2,3],[6,5,4]],[[1,2,3],[6,5,4]]])\n",
        "for i in b:\n",
        "  print(b)\n",
        "\n",
        "print(\"---------------------------------------\")\n",
        "\n",
        "for i in b:\n",
        "  for j in i:\n",
        "    print(j)"
      ],
      "metadata": {
        "colab": {
          "base_uri": "https://localhost:8080/"
        },
        "id": "I_THRYGPeM50",
        "outputId": "366d2ff0-b1cf-4ed1-de94-f2b5a9537af1"
      },
      "execution_count": 9,
      "outputs": [
        {
          "output_type": "stream",
          "name": "stdout",
          "text": [
            "[[[1 2 3]\n",
            "  [6 5 4]]\n",
            "\n",
            " [[1 2 3]\n",
            "  [6 5 4]]]\n",
            "[[[1 2 3]\n",
            "  [6 5 4]]\n",
            "\n",
            " [[1 2 3]\n",
            "  [6 5 4]]]\n",
            "---------------------------------------\n",
            "[1 2 3]\n",
            "[6 5 4]\n",
            "[1 2 3]\n",
            "[6 5 4]\n"
          ]
        }
      ]
    },
    {
      "cell_type": "markdown",
      "source": [
        "# nditer\n",
        "\n",
        "nditer in NumPy is an efficient way to iterate over elements of an array. It simplifies looping through multi-dimensional arrays, allowing you to access each element without needing to write nested loops."
      ],
      "metadata": {
        "id": "4D5PrrQygZmO"
      }
    },
    {
      "cell_type": "code",
      "source": [
        "import numpy as np\n",
        "b=np.array([[[1,2,3],[6,5,4]],[[1,2,3],[6,5,4]]])\n",
        "for i in np.nditer(b):\n",
        "  print(i)"
      ],
      "metadata": {
        "colab": {
          "base_uri": "https://localhost:8080/"
        },
        "id": "FHZiOyfmgdq1",
        "outputId": "e482e63d-0513-44d2-9a7f-55dc678926cf"
      },
      "execution_count": 11,
      "outputs": [
        {
          "output_type": "stream",
          "name": "stdout",
          "text": [
            "1\n",
            "2\n",
            "3\n",
            "6\n",
            "5\n",
            "4\n",
            "1\n",
            "2\n",
            "3\n",
            "6\n",
            "5\n",
            "4\n"
          ]
        }
      ]
    },
    {
      "cell_type": "code",
      "source": [
        "import numpy as np\n",
        "b=np.array([[[1,2,3],[4,5,6],[7,8,9],[10,11,12]]])\n",
        "for i in np.nditer(b[:,::2]):\n",
        "  print(i)\n"
      ],
      "metadata": {
        "colab": {
          "base_uri": "https://localhost:8080/"
        },
        "id": "pnQeGHeFi1bX",
        "outputId": "ac24cd4e-0af4-4ed2-a613-6e8181af3da3"
      },
      "execution_count": 31,
      "outputs": [
        {
          "output_type": "stream",
          "name": "stdout",
          "text": [
            "1\n",
            "2\n",
            "3\n",
            "7\n",
            "8\n",
            "9\n"
          ]
        }
      ]
    }
  ]
}