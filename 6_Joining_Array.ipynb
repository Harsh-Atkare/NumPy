{
  "nbformat": 4,
  "nbformat_minor": 0,
  "metadata": {
    "colab": {
      "provenance": [],
      "authorship_tag": "ABX9TyMf4HW5mQbYD6F+bibDMSDW",
      "include_colab_link": true
    },
    "kernelspec": {
      "name": "python3",
      "display_name": "Python 3"
    },
    "language_info": {
      "name": "python"
    }
  },
  "cells": [
    {
      "cell_type": "markdown",
      "metadata": {
        "id": "view-in-github",
        "colab_type": "text"
      },
      "source": [
        "<a href=\"https://colab.research.google.com/github/Harsh-Atkare/NumPy/blob/main/6_Joining_Array.ipynb\" target=\"_parent\"><img src=\"https://colab.research.google.com/assets/colab-badge.svg\" alt=\"Open In Colab\"/></a>"
      ]
    },
    {
      "cell_type": "markdown",
      "source": [
        "# Joining array\n",
        "joining arrays refers to combining multiple arrays into a single array. You can join arrays using several functions like concatenate(), stack(), hstack(), vstack(), and dstack()."
      ],
      "metadata": {
        "id": "EPe9p4dlns4G"
      }
    },
    {
      "cell_type": "code",
      "execution_count": 1,
      "metadata": {
        "colab": {
          "base_uri": "https://localhost:8080/"
        },
        "id": "hxjHJ1HBnY-3",
        "outputId": "058da86f-ca53-4ca3-881e-54c01c2d2d8a"
      },
      "outputs": [
        {
          "output_type": "stream",
          "name": "stdout",
          "text": [
            "[1 2 3 4 5 6 7 8]\n"
          ]
        }
      ],
      "source": [
        "import numpy as np\n",
        "a=np.array([1,2,3,4])\n",
        "b=np.array([5,6,7,8])\n",
        "c=np.concatenate((a,b))\n",
        "print(c)"
      ]
    },
    {
      "cell_type": "code",
      "source": [
        "# joining 2D\n",
        "a=np.array([[1,2,3],[7,6,5]])\n",
        "b=np.array([[9,2,3],[88,6,5]])\n",
        "result=np.concatenate((a,b),axis=0) # axis 0 means rows\n",
        "print(result)\n",
        "print(\"---------------------------------------\")\n",
        "result2=np.concatenate((a,b),axis=1) # and axis 1 means column\n",
        "print(result2)"
      ],
      "metadata": {
        "colab": {
          "base_uri": "https://localhost:8080/"
        },
        "id": "fXq8jDEDobb8",
        "outputId": "573df51a-c64b-4220-8d27-96e535683762"
      },
      "execution_count": 6,
      "outputs": [
        {
          "output_type": "stream",
          "name": "stdout",
          "text": [
            "[[ 1  2  3]\n",
            " [ 7  6  5]\n",
            " [ 9  2  3]\n",
            " [88  6  5]]\n",
            "---------------------------------------\n",
            "[[ 1  2  3  9  2  3]\n",
            " [ 7  6  5 88  6  5]]\n"
          ]
        }
      ]
    },
    {
      "cell_type": "markdown",
      "source": [
        "# Joining BY Stack"
      ],
      "metadata": {
        "id": "e-TXdyZLq-9z"
      }
    },
    {
      "cell_type": "code",
      "source": [
        "import numpy as np\n",
        "a=np.array([1,2,3,4])\n",
        "b=np.array([5,6,7,8])\n",
        "c=np.stack((a,b))\n",
        "print(c)\n",
        "print(\"---------------------------\")\n",
        "d=np.stack((a,b),axis=1)\n",
        "print(d)\n",
        "print(\"---------------------------\")\n",
        "e=np.stack((a,b),axis=0)\n",
        "print(e)\n"
      ],
      "metadata": {
        "colab": {
          "base_uri": "https://localhost:8080/"
        },
        "id": "0Kqw6Aj0rDM_",
        "outputId": "1d73fb6d-11ac-46a0-b812-e6271db04265"
      },
      "execution_count": 10,
      "outputs": [
        {
          "output_type": "stream",
          "name": "stdout",
          "text": [
            "[[1 2 3 4]\n",
            " [5 6 7 8]]\n",
            "---------------------------\n",
            "[[1 5]\n",
            " [2 6]\n",
            " [3 7]\n",
            " [4 8]]\n",
            "---------------------------\n",
            "[[1 2 3 4]\n",
            " [5 6 7 8]]\n"
          ]
        }
      ]
    },
    {
      "cell_type": "markdown",
      "source": [
        "# hstack\n"
      ],
      "metadata": {
        "id": "Ax7SuR8Rsdip"
      }
    },
    {
      "cell_type": "code",
      "source": [
        "arr1 = np.array([1, 2, 3])\n",
        "arr2 = np.array([4, 5, 6])\n",
        "\n",
        "result = np.hstack((arr1, arr2))\n",
        "result1 = np.vstack((arr1, arr2))\n",
        "print(result)\n",
        "print(\"-------------------------------\")\n",
        "print(result1)"
      ],
      "metadata": {
        "colab": {
          "base_uri": "https://localhost:8080/"
        },
        "id": "lobn3IlrsgkI",
        "outputId": "293e8806-9407-4d77-a0bd-2e02369893be"
      },
      "execution_count": 14,
      "outputs": [
        {
          "output_type": "stream",
          "name": "stdout",
          "text": [
            "[1 2 3 4 5 6]\n",
            "-------------------------------\n",
            "[[1 2 3]\n",
            " [4 5 6]]\n"
          ]
        }
      ]
    },
    {
      "cell_type": "code",
      "source": [
        "a=np.array([[1,2,3],[7,6,5]])\n",
        "b=np.array([[9,2,3],[88,6,5]])\n",
        "result=np.hstack((a,b))\n",
        "print(result)"
      ],
      "metadata": {
        "colab": {
          "base_uri": "https://localhost:8080/"
        },
        "id": "QKLMH8Ygsi5p",
        "outputId": "7c60c604-ad52-46b9-ac51-c919062ec1f6"
      },
      "execution_count": 12,
      "outputs": [
        {
          "output_type": "stream",
          "name": "stdout",
          "text": [
            "[[ 1  2  3  9  2  3]\n",
            " [ 7  6  5 88  6  5]]\n"
          ]
        }
      ]
    }
  ]
}