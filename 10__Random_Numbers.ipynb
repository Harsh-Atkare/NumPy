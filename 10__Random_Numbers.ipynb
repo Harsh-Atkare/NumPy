{
  "nbformat": 4,
  "nbformat_minor": 0,
  "metadata": {
    "colab": {
      "provenance": [],
      "authorship_tag": "ABX9TyPw8MT90sN6c675SPccSfu3",
      "include_colab_link": true
    },
    "kernelspec": {
      "name": "python3",
      "display_name": "Python 3"
    },
    "language_info": {
      "name": "python"
    }
  },
  "cells": [
    {
      "cell_type": "markdown",
      "metadata": {
        "id": "view-in-github",
        "colab_type": "text"
      },
      "source": [
        "<a href=\"https://colab.research.google.com/github/Harsh-Atkare/NumPy/blob/main/10__Random_Numbers.ipynb\" target=\"_parent\"><img src=\"https://colab.research.google.com/assets/colab-badge.svg\" alt=\"Open In Colab\"/></a>"
      ]
    },
    {
      "cell_type": "markdown",
      "source": [
        "# **Random Number**"
      ],
      "metadata": {
        "id": "0PoK7P4OsOhp"
      }
    },
    {
      "cell_type": "code",
      "execution_count": 2,
      "metadata": {
        "colab": {
          "base_uri": "https://localhost:8080/"
        },
        "id": "bUhaztYyr4g0",
        "outputId": "b1c80472-1f19-48b3-b7a3-a3cb65a49a50"
      },
      "outputs": [
        {
          "output_type": "stream",
          "name": "stdout",
          "text": [
            "16\n"
          ]
        }
      ],
      "source": [
        "from numpy import random\n",
        "# integer\n",
        "a=random.randint(100)\n",
        "print(a)"
      ]
    },
    {
      "cell_type": "code",
      "source": [
        "# float\n",
        "a=random.rand()\n",
        "print(a)\n",
        "print(\"----------------------\")\n",
        "b=random.uniform(1,10)\n",
        "print(b)"
      ],
      "metadata": {
        "colab": {
          "base_uri": "https://localhost:8080/"
        },
        "id": "rVAqQSIBBL75",
        "outputId": "cd198fa9-5b40-448d-d33d-45f788d8a083"
      },
      "execution_count": 3,
      "outputs": [
        {
          "output_type": "stream",
          "name": "stdout",
          "text": [
            "0.04242453131402213\n",
            "----------------------\n",
            "8.004055244828512\n"
          ]
        }
      ]
    },
    {
      "cell_type": "code",
      "source": [
        "# random number from arrays\n",
        "a=random.choice([1,2,3,4,5,6])\n",
        "print(a)\n",
        "print(\"----------------------\")\n",
        "a=random.choice([1,2,3,4,5,6],2)\n",
        "print(a)"
      ],
      "metadata": {
        "colab": {
          "base_uri": "https://localhost:8080/"
        },
        "id": "oEzMZScuDHT-",
        "outputId": "a237fabd-4465-4df9-8901-28ccbc4a6c0f"
      },
      "execution_count": 18,
      "outputs": [
        {
          "output_type": "stream",
          "name": "stdout",
          "text": [
            "6\n",
            "----------------------\n",
            "[3 1]\n"
          ]
        }
      ]
    },
    {
      "cell_type": "code",
      "source": [
        "# randomly shuffle in array\n",
        "a=[1,2,3,4,5,6,7,8]\n",
        "random.shuffle(a)\n",
        "print(a)"
      ],
      "metadata": {
        "colab": {
          "base_uri": "https://localhost:8080/"
        },
        "id": "7l7t6XL6Df8X",
        "outputId": "de08bd69-b72a-4e1d-c8bf-738cbedbba99"
      },
      "execution_count": 5,
      "outputs": [
        {
          "output_type": "stream",
          "name": "stdout",
          "text": [
            "[7, 6, 5, 1, 2, 8, 4, 3]\n"
          ]
        }
      ]
    },
    {
      "cell_type": "code",
      "source": [
        "# number of unique numbers\n",
        "rand_sample = random.sample(range(1, 100), 5)\n",
        "print(rand_sample)  # Output: 5 unique random numbers between 1 and 99"
      ],
      "metadata": {
        "colab": {
          "base_uri": "https://localhost:8080/",
          "height": 245
        },
        "id": "7pYqji_mECB6",
        "outputId": "78dbc4eb-4024-44c3-a699-2b65277598f7"
      },
      "execution_count": 7,
      "outputs": [
        {
          "output_type": "error",
          "ename": "TypeError",
          "evalue": "random_sample() takes at most 1 positional argument (2 given)",
          "traceback": [
            "\u001b[0;31m---------------------------------------------------------------------------\u001b[0m",
            "\u001b[0;31mTypeError\u001b[0m                                 Traceback (most recent call last)",
            "\u001b[0;32m<ipython-input-7-27a22b32fa58>\u001b[0m in \u001b[0;36m<cell line: 2>\u001b[0;34m()\u001b[0m\n\u001b[1;32m      1\u001b[0m \u001b[0;31m# number of unique numbers\u001b[0m\u001b[0;34m\u001b[0m\u001b[0;34m\u001b[0m\u001b[0m\n\u001b[0;32m----> 2\u001b[0;31m \u001b[0mrand_sample\u001b[0m \u001b[0;34m=\u001b[0m \u001b[0mrandom\u001b[0m\u001b[0;34m.\u001b[0m\u001b[0msample\u001b[0m\u001b[0;34m(\u001b[0m\u001b[0mrange\u001b[0m\u001b[0;34m(\u001b[0m\u001b[0;36m1\u001b[0m\u001b[0;34m,\u001b[0m \u001b[0;36m100\u001b[0m\u001b[0;34m)\u001b[0m\u001b[0;34m,\u001b[0m \u001b[0;36m5\u001b[0m\u001b[0;34m)\u001b[0m\u001b[0;34m\u001b[0m\u001b[0;34m\u001b[0m\u001b[0m\n\u001b[0m\u001b[1;32m      3\u001b[0m \u001b[0mprint\u001b[0m\u001b[0;34m(\u001b[0m\u001b[0mrand_sample\u001b[0m\u001b[0;34m)\u001b[0m  \u001b[0;31m# Output: 5 unique random numbers between 1 and 99\u001b[0m\u001b[0;34m\u001b[0m\u001b[0;34m\u001b[0m\u001b[0m\n",
            "\u001b[0;32mnumpy/random/mtrand.pyx\u001b[0m in \u001b[0;36mnumpy.random.mtrand.sample\u001b[0;34m()\u001b[0m\n",
            "\u001b[0;32mnumpy/random/mtrand.pyx\u001b[0m in \u001b[0;36mnumpy.random.mtrand.RandomState.random_sample\u001b[0;34m()\u001b[0m\n",
            "\u001b[0;31mTypeError\u001b[0m: random_sample() takes at most 1 positional argument (2 given)"
          ]
        }
      ]
    },
    {
      "cell_type": "code",
      "source": [
        "# random array\n",
        "print(random.__all__)"
      ],
      "metadata": {
        "colab": {
          "base_uri": "https://localhost:8080/"
        },
        "id": "tPZ4X3gkBk4G",
        "outputId": "b33bb5d3-b9cd-4473-c4df-3b5629b68675"
      },
      "execution_count": 8,
      "outputs": [
        {
          "output_type": "stream",
          "name": "stdout",
          "text": [
            "['beta', 'binomial', 'bytes', 'chisquare', 'choice', 'dirichlet', 'exponential', 'f', 'gamma', 'geometric', 'get_state', 'gumbel', 'hypergeometric', 'laplace', 'logistic', 'lognormal', 'logseries', 'multinomial', 'multivariate_normal', 'negative_binomial', 'noncentral_chisquare', 'noncentral_f', 'normal', 'pareto', 'permutation', 'poisson', 'power', 'rand', 'randint', 'randn', 'random', 'random_integers', 'random_sample', 'ranf', 'rayleigh', 'sample', 'seed', 'set_state', 'shuffle', 'standard_cauchy', 'standard_exponential', 'standard_gamma', 'standard_normal', 'standard_t', 'triangular', 'uniform', 'vonmises', 'wald', 'weibull', 'zipf', 'Generator', 'RandomState', 'SeedSequence', 'MT19937', 'Philox', 'PCG64', 'PCG64DXSM', 'SFC64', 'default_rng', 'BitGenerator']\n"
          ]
        }
      ]
    },
    {
      "cell_type": "code",
      "source": [
        "print(random.gumbel())"
      ],
      "metadata": {
        "colab": {
          "base_uri": "https://localhost:8080/"
        },
        "id": "RnJRGcxTCBkZ",
        "outputId": "f470b513-160a-4c05-b836-e4acc735ecca"
      },
      "execution_count": 9,
      "outputs": [
        {
          "output_type": "stream",
          "name": "stdout",
          "text": [
            "0.409173311304491\n"
          ]
        }
      ]
    },
    {
      "cell_type": "code",
      "source": [
        "# Generate Random Array\n",
        "d=random.randint(100,size=(5))\n",
        "print(d)\n",
        "print(\"--------------------------------------\")\n",
        "d=random.randint(100,size=(3,5)) # 3 rows and 5 values\n",
        "print(d)\n",
        "print(\"--------------------------------------\")\n",
        "d=random.rand(5)\n",
        "print(d)\n",
        "print(\"--------------------------------------\")\n",
        "d=random.rand(5,3) # 3 column and 5 rows\n",
        "print(d)"
      ],
      "metadata": {
        "colab": {
          "base_uri": "https://localhost:8080/"
        },
        "id": "TZGlhyII4rQx",
        "outputId": "c2f0e24b-7c20-4957-9777-92b9318e039d"
      },
      "execution_count": 16,
      "outputs": [
        {
          "output_type": "stream",
          "name": "stdout",
          "text": [
            "[41 33 90 16 97]\n",
            "--------------------------------------\n",
            "[[92 98 13 91  5]\n",
            " [ 3  3 17 94 47]\n",
            " [81 71 20 38  0]]\n",
            "--------------------------------------\n",
            "[0.0574502  0.71963133 0.30288136 0.51454565 0.68306555]\n",
            "--------------------------------------\n",
            "[[0.67654121 0.39832572 0.62466617]\n",
            " [0.88092098 0.68111216 0.67262488]\n",
            " [0.53836625 0.0307016  0.6224538 ]\n",
            " [0.78151092 0.4775214  0.0303215 ]\n",
            " [0.9137097  0.15795074 0.37685588]]\n"
          ]
        }
      ]
    },
    {
      "cell_type": "code",
      "source": [],
      "metadata": {
        "id": "odTwyEUm5ayX"
      },
      "execution_count": null,
      "outputs": []
    }
  ]
}