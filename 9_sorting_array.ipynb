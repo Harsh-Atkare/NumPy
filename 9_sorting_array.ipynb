{
  "nbformat": 4,
  "nbformat_minor": 0,
  "metadata": {
    "colab": {
      "provenance": [],
      "authorship_tag": "ABX9TyOfP7WTMtmiJ8yCvggUy81H",
      "include_colab_link": true
    },
    "kernelspec": {
      "name": "python3",
      "display_name": "Python 3"
    },
    "language_info": {
      "name": "python"
    }
  },
  "cells": [
    {
      "cell_type": "markdown",
      "metadata": {
        "id": "view-in-github",
        "colab_type": "text"
      },
      "source": [
        "<a href=\"https://colab.research.google.com/github/Harsh-Atkare/NumPy/blob/main/9_sorting_array.ipynb\" target=\"_parent\"><img src=\"https://colab.research.google.com/assets/colab-badge.svg\" alt=\"Open In Colab\"/></a>"
      ]
    },
    {
      "cell_type": "code",
      "execution_count": 1,
      "metadata": {
        "colab": {
          "base_uri": "https://localhost:8080/"
        },
        "id": "pUBCtgkT6liA",
        "outputId": "b6ad644f-54e2-49e6-cffe-8f41bb2c699f"
      },
      "outputs": [
        {
          "output_type": "stream",
          "name": "stdout",
          "text": [
            "[1 2 4 4 5 6 7]\n"
          ]
        }
      ],
      "source": [
        "import numpy as np\n",
        "a=np.array([6,5,2,4,1,7,4])\n",
        "sorted=np.sort(a)\n",
        "print(sorted)"
      ]
    },
    {
      "cell_type": "code",
      "source": [
        "# in 2D\n",
        "a=np.array([[6,5,2],[4,1,7]])\n",
        "sorted=np.sort(a)\n",
        "print(sorted)\n"
      ],
      "metadata": {
        "colab": {
          "base_uri": "https://localhost:8080/"
        },
        "id": "d4-2BgxS7S1a",
        "outputId": "1eef7099-742f-4326-efb0-3d098804c65e"
      },
      "execution_count": 5,
      "outputs": [
        {
          "output_type": "stream",
          "name": "stdout",
          "text": [
            "[[2 5 6]\n",
            " [1 4 7]]\n"
          ]
        }
      ]
    }
  ]
}