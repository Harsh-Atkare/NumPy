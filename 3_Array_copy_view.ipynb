{
  "nbformat": 4,
  "nbformat_minor": 0,
  "metadata": {
    "colab": {
      "provenance": [],
      "authorship_tag": "ABX9TyN2C0LmvuJPWQxwnW7UFsPj",
      "include_colab_link": true
    },
    "kernelspec": {
      "name": "python3",
      "display_name": "Python 3"
    },
    "language_info": {
      "name": "python"
    }
  },
  "cells": [
    {
      "cell_type": "markdown",
      "metadata": {
        "id": "view-in-github",
        "colab_type": "text"
      },
      "source": [
        "<a href=\"https://colab.research.google.com/github/Harsh-Atkare/NumPy/blob/main/3_Array_copy_view.ipynb\" target=\"_parent\"><img src=\"https://colab.research.google.com/assets/colab-badge.svg\" alt=\"Open In Colab\"/></a>"
      ]
    },
    {
      "cell_type": "markdown",
      "source": [
        "# Copy\n",
        "A copy of a NumPy array creates a new array with its own data. Modifying the copy does not affect the original array and vice versa."
      ],
      "metadata": {
        "id": "WEKo0C4OttBQ"
      }
    },
    {
      "cell_type": "code",
      "execution_count": 1,
      "metadata": {
        "colab": {
          "base_uri": "https://localhost:8080/"
        },
        "id": "Huk0Kv1TtVkU",
        "outputId": "5c765343-4576-4a2b-d5f2-cf238164eb14"
      },
      "outputs": [
        {
          "output_type": "stream",
          "name": "stdout",
          "text": [
            "[  1 200   3   4   5]\n"
          ]
        }
      ],
      "source": [
        "import numpy as np\n",
        "orignal=np.array([1,2,3,4,5])\n",
        "copy_array=orignal.copy()\n",
        "copy_array[1]=200\n",
        "print(copy_array)"
      ]
    },
    {
      "cell_type": "markdown",
      "source": [
        "# View\n",
        "A view is a new array object that looks at the same data as the original array. Modifying the view affects the original array and vice versa."
      ],
      "metadata": {
        "id": "wRFQcS_4vWbS"
      }
    },
    {
      "cell_type": "code",
      "source": [
        "import numpy as np\n",
        "\n",
        "orignal=np.array([1,2,3,4,5])\n",
        "print(\"orignal array befor modification => \",orignal)\n",
        "view_array=orignal.view()\n",
        "view_array[0]=10000\n",
        "print(\"view array is =>\", view_array)\n",
        "print(\"orignal array is => \", orignal)\n",
        "print(\"orignal array is affected\")"
      ],
      "metadata": {
        "colab": {
          "base_uri": "https://localhost:8080/"
        },
        "id": "SN64vIZ4vY4A",
        "outputId": "ee5d7d4d-282e-4b63-c741-cb4d1e3c3112"
      },
      "execution_count": 3,
      "outputs": [
        {
          "output_type": "stream",
          "name": "stdout",
          "text": [
            "orignal array befor modification =>  [1 2 3 4 5]\n",
            "view array is => [10000     2     3     4     5]\n",
            "orignal array is =>  [10000     2     3     4     5]\n"
          ]
        }
      ]
    }
  ]
}